{
 "cells": [
  {
   "attachments": {},
   "cell_type": "markdown",
   "metadata": {},
   "source": [
    "Amabel Nabila <br>\n",
    "Batch 012 <br>\n",
    "Graded Challenge 3"
   ]
  },
  {
   "attachments": {},
   "cell_type": "markdown",
   "metadata": {},
   "source": [
    "## Query Dataset"
   ]
  },
  {
   "attachments": {},
   "cell_type": "markdown",
   "metadata": {},
   "source": [
    "SELECT  load_time, load_type, load_weight, dropoff_site\n",
    "FROM bigquery-public-data.austin_waste.waste_and_diversion\n",
    "limit 150000;"
   ]
  },
  {
   "attachments": {},
   "cell_type": "markdown",
   "metadata": {},
   "source": [
    "Query coding results"
   ]
  },
  {
   "attachments": {},
   "cell_type": "markdown",
   "metadata": {},
   "source": [
    "## Import Libraries"
   ]
  },
  {
   "cell_type": "code",
   "execution_count": 1,
   "metadata": {},
   "outputs": [],
   "source": [
    "import pandas as pd\n",
    "import numpy as np\n",
    "import seaborn as sns\n",
    "import matplotlib.pyplot as plt\n",
    "from scipy.stats import ttest_1samp\n",
    "from scipy import stats"
   ]
  },
  {
   "attachments": {},
   "cell_type": "markdown",
   "metadata": {},
   "source": [
    "Import the required libraries"
   ]
  },
  {
   "attachments": {},
   "cell_type": "markdown",
   "metadata": {},
   "source": [
    "## Data Loading"
   ]
  },
  {
   "cell_type": "code",
   "execution_count": 2,
   "metadata": {},
   "outputs": [
    {
     "data": {
      "text/html": [
       "<div>\n",
       "<style scoped>\n",
       "    .dataframe tbody tr th:only-of-type {\n",
       "        vertical-align: middle;\n",
       "    }\n",
       "\n",
       "    .dataframe tbody tr th {\n",
       "        vertical-align: top;\n",
       "    }\n",
       "\n",
       "    .dataframe thead th {\n",
       "        text-align: right;\n",
       "    }\n",
       "</style>\n",
       "<table border=\"1\" class=\"dataframe\">\n",
       "  <thead>\n",
       "    <tr style=\"text-align: right;\">\n",
       "      <th></th>\n",
       "      <th>load_time</th>\n",
       "      <th>load_type</th>\n",
       "      <th>load_weight</th>\n",
       "      <th>dropoff_site</th>\n",
       "    </tr>\n",
       "  </thead>\n",
       "  <tbody>\n",
       "    <tr>\n",
       "      <th>0</th>\n",
       "      <td>2009-08-07 11:51:00 UTC</td>\n",
       "      <td>RECYCLING - SINGLE STREAM</td>\n",
       "      <td>4400.0</td>\n",
       "      <td>MRF</td>\n",
       "    </tr>\n",
       "    <tr>\n",
       "      <th>1</th>\n",
       "      <td>2008-04-11 12:31:00 UTC</td>\n",
       "      <td>RECYCLING - PAPER</td>\n",
       "      <td>1920.0</td>\n",
       "      <td>MRF</td>\n",
       "    </tr>\n",
       "    <tr>\n",
       "      <th>2</th>\n",
       "      <td>2009-01-16 12:58:00 UTC</td>\n",
       "      <td>RECYCLING - SINGLE STREAM</td>\n",
       "      <td>4140.0</td>\n",
       "      <td>MRF</td>\n",
       "    </tr>\n",
       "    <tr>\n",
       "      <th>3</th>\n",
       "      <td>2009-07-10 11:21:00 UTC</td>\n",
       "      <td>RECYCLING - SINGLE STREAM</td>\n",
       "      <td>4020.0</td>\n",
       "      <td>MRF</td>\n",
       "    </tr>\n",
       "    <tr>\n",
       "      <th>4</th>\n",
       "      <td>2006-02-03 12:36:00 UTC</td>\n",
       "      <td>RECYCLING - COMINGLE</td>\n",
       "      <td>1700.0</td>\n",
       "      <td>MRF</td>\n",
       "    </tr>\n",
       "    <tr>\n",
       "      <th>...</th>\n",
       "      <td>...</td>\n",
       "      <td>...</td>\n",
       "      <td>...</td>\n",
       "      <td>...</td>\n",
       "    </tr>\n",
       "    <tr>\n",
       "      <th>149995</th>\n",
       "      <td>2011-08-17 12:45:00 UTC</td>\n",
       "      <td>RECYCLING - SINGLE STREAM</td>\n",
       "      <td>13380.0</td>\n",
       "      <td>TDS - MRF</td>\n",
       "    </tr>\n",
       "    <tr>\n",
       "      <th>149996</th>\n",
       "      <td>2011-06-08 10:59:00 UTC</td>\n",
       "      <td>RECYCLING - SINGLE STREAM</td>\n",
       "      <td>14080.0</td>\n",
       "      <td>TDS - MRF</td>\n",
       "    </tr>\n",
       "    <tr>\n",
       "      <th>149997</th>\n",
       "      <td>2012-04-11 12:09:00 UTC</td>\n",
       "      <td>RECYCLING - SINGLE STREAM</td>\n",
       "      <td>14260.0</td>\n",
       "      <td>TDS - MRF</td>\n",
       "    </tr>\n",
       "    <tr>\n",
       "      <th>149998</th>\n",
       "      <td>2011-08-31 02:50:00 UTC</td>\n",
       "      <td>RECYCLING - SINGLE STREAM</td>\n",
       "      <td>4100.0</td>\n",
       "      <td>TDS - MRF</td>\n",
       "    </tr>\n",
       "    <tr>\n",
       "      <th>149999</th>\n",
       "      <td>2011-07-20 11:21:00 UTC</td>\n",
       "      <td>RECYCLING - SINGLE STREAM</td>\n",
       "      <td>6220.0</td>\n",
       "      <td>TDS - MRF</td>\n",
       "    </tr>\n",
       "  </tbody>\n",
       "</table>\n",
       "<p>150000 rows × 4 columns</p>\n",
       "</div>"
      ],
      "text/plain": [
       "                      load_time                  load_type  load_weight  \\\n",
       "0       2009-08-07 11:51:00 UTC  RECYCLING - SINGLE STREAM       4400.0   \n",
       "1       2008-04-11 12:31:00 UTC          RECYCLING - PAPER       1920.0   \n",
       "2       2009-01-16 12:58:00 UTC  RECYCLING - SINGLE STREAM       4140.0   \n",
       "3       2009-07-10 11:21:00 UTC  RECYCLING - SINGLE STREAM       4020.0   \n",
       "4       2006-02-03 12:36:00 UTC       RECYCLING - COMINGLE       1700.0   \n",
       "...                         ...                        ...          ...   \n",
       "149995  2011-08-17 12:45:00 UTC  RECYCLING - SINGLE STREAM      13380.0   \n",
       "149996  2011-06-08 10:59:00 UTC  RECYCLING - SINGLE STREAM      14080.0   \n",
       "149997  2012-04-11 12:09:00 UTC  RECYCLING - SINGLE STREAM      14260.0   \n",
       "149998  2011-08-31 02:50:00 UTC  RECYCLING - SINGLE STREAM       4100.0   \n",
       "149999  2011-07-20 11:21:00 UTC  RECYCLING - SINGLE STREAM       6220.0   \n",
       "\n",
       "       dropoff_site  \n",
       "0               MRF  \n",
       "1               MRF  \n",
       "2               MRF  \n",
       "3               MRF  \n",
       "4               MRF  \n",
       "...             ...  \n",
       "149995    TDS - MRF  \n",
       "149996    TDS - MRF  \n",
       "149997    TDS - MRF  \n",
       "149998    TDS - MRF  \n",
       "149999    TDS - MRF  \n",
       "\n",
       "[150000 rows x 4 columns]"
      ]
     },
     "execution_count": 2,
     "metadata": {},
     "output_type": "execute_result"
    }
   ],
   "source": [
    "df = pd.read_csv('h8dsft_P0GC3_AmabelNabila.csv')\n",
    "df"
   ]
  },
  {
   "attachments": {},
   "cell_type": "markdown",
   "metadata": {},
   "source": [
    "Call the data"
   ]
  },
  {
   "cell_type": "code",
   "execution_count": 3,
   "metadata": {},
   "outputs": [
    {
     "data": {
      "text/html": [
       "<div>\n",
       "<style scoped>\n",
       "    .dataframe tbody tr th:only-of-type {\n",
       "        vertical-align: middle;\n",
       "    }\n",
       "\n",
       "    .dataframe tbody tr th {\n",
       "        vertical-align: top;\n",
       "    }\n",
       "\n",
       "    .dataframe thead th {\n",
       "        text-align: right;\n",
       "    }\n",
       "</style>\n",
       "<table border=\"1\" class=\"dataframe\">\n",
       "  <thead>\n",
       "    <tr style=\"text-align: right;\">\n",
       "      <th></th>\n",
       "      <th>load_time</th>\n",
       "      <th>load_type</th>\n",
       "      <th>load_weight</th>\n",
       "      <th>dropoff_site</th>\n",
       "    </tr>\n",
       "  </thead>\n",
       "  <tbody>\n",
       "    <tr>\n",
       "      <th>0</th>\n",
       "      <td>2009-08-07 11:51:00 UTC</td>\n",
       "      <td>RECYCLING - SINGLE STREAM</td>\n",
       "      <td>4400.0</td>\n",
       "      <td>MRF</td>\n",
       "    </tr>\n",
       "    <tr>\n",
       "      <th>1</th>\n",
       "      <td>2008-04-11 12:31:00 UTC</td>\n",
       "      <td>RECYCLING - PAPER</td>\n",
       "      <td>1920.0</td>\n",
       "      <td>MRF</td>\n",
       "    </tr>\n",
       "    <tr>\n",
       "      <th>2</th>\n",
       "      <td>2009-01-16 12:58:00 UTC</td>\n",
       "      <td>RECYCLING - SINGLE STREAM</td>\n",
       "      <td>4140.0</td>\n",
       "      <td>MRF</td>\n",
       "    </tr>\n",
       "    <tr>\n",
       "      <th>3</th>\n",
       "      <td>2009-07-10 11:21:00 UTC</td>\n",
       "      <td>RECYCLING - SINGLE STREAM</td>\n",
       "      <td>4020.0</td>\n",
       "      <td>MRF</td>\n",
       "    </tr>\n",
       "    <tr>\n",
       "      <th>4</th>\n",
       "      <td>2006-02-03 12:36:00 UTC</td>\n",
       "      <td>RECYCLING - COMINGLE</td>\n",
       "      <td>1700.0</td>\n",
       "      <td>MRF</td>\n",
       "    </tr>\n",
       "  </tbody>\n",
       "</table>\n",
       "</div>"
      ],
      "text/plain": [
       "                 load_time                  load_type  load_weight  \\\n",
       "0  2009-08-07 11:51:00 UTC  RECYCLING - SINGLE STREAM       4400.0   \n",
       "1  2008-04-11 12:31:00 UTC          RECYCLING - PAPER       1920.0   \n",
       "2  2009-01-16 12:58:00 UTC  RECYCLING - SINGLE STREAM       4140.0   \n",
       "3  2009-07-10 11:21:00 UTC  RECYCLING - SINGLE STREAM       4020.0   \n",
       "4  2006-02-03 12:36:00 UTC       RECYCLING - COMINGLE       1700.0   \n",
       "\n",
       "  dropoff_site  \n",
       "0          MRF  \n",
       "1          MRF  \n",
       "2          MRF  \n",
       "3          MRF  \n",
       "4          MRF  "
      ]
     },
     "execution_count": 3,
     "metadata": {},
     "output_type": "execute_result"
    }
   ],
   "source": [
    "df.head()"
   ]
  },
  {
   "attachments": {},
   "cell_type": "markdown",
   "metadata": {},
   "source": [
    "Calling head to get the top n rows of data"
   ]
  },
  {
   "cell_type": "code",
   "execution_count": 4,
   "metadata": {},
   "outputs": [
    {
     "data": {
      "text/html": [
       "<div>\n",
       "<style scoped>\n",
       "    .dataframe tbody tr th:only-of-type {\n",
       "        vertical-align: middle;\n",
       "    }\n",
       "\n",
       "    .dataframe tbody tr th {\n",
       "        vertical-align: top;\n",
       "    }\n",
       "\n",
       "    .dataframe thead th {\n",
       "        text-align: right;\n",
       "    }\n",
       "</style>\n",
       "<table border=\"1\" class=\"dataframe\">\n",
       "  <thead>\n",
       "    <tr style=\"text-align: right;\">\n",
       "      <th></th>\n",
       "      <th>load_time</th>\n",
       "      <th>load_type</th>\n",
       "      <th>load_weight</th>\n",
       "      <th>dropoff_site</th>\n",
       "    </tr>\n",
       "  </thead>\n",
       "  <tbody>\n",
       "    <tr>\n",
       "      <th>149995</th>\n",
       "      <td>2011-08-17 12:45:00 UTC</td>\n",
       "      <td>RECYCLING - SINGLE STREAM</td>\n",
       "      <td>13380.0</td>\n",
       "      <td>TDS - MRF</td>\n",
       "    </tr>\n",
       "    <tr>\n",
       "      <th>149996</th>\n",
       "      <td>2011-06-08 10:59:00 UTC</td>\n",
       "      <td>RECYCLING - SINGLE STREAM</td>\n",
       "      <td>14080.0</td>\n",
       "      <td>TDS - MRF</td>\n",
       "    </tr>\n",
       "    <tr>\n",
       "      <th>149997</th>\n",
       "      <td>2012-04-11 12:09:00 UTC</td>\n",
       "      <td>RECYCLING - SINGLE STREAM</td>\n",
       "      <td>14260.0</td>\n",
       "      <td>TDS - MRF</td>\n",
       "    </tr>\n",
       "    <tr>\n",
       "      <th>149998</th>\n",
       "      <td>2011-08-31 02:50:00 UTC</td>\n",
       "      <td>RECYCLING - SINGLE STREAM</td>\n",
       "      <td>4100.0</td>\n",
       "      <td>TDS - MRF</td>\n",
       "    </tr>\n",
       "    <tr>\n",
       "      <th>149999</th>\n",
       "      <td>2011-07-20 11:21:00 UTC</td>\n",
       "      <td>RECYCLING - SINGLE STREAM</td>\n",
       "      <td>6220.0</td>\n",
       "      <td>TDS - MRF</td>\n",
       "    </tr>\n",
       "  </tbody>\n",
       "</table>\n",
       "</div>"
      ],
      "text/plain": [
       "                      load_time                  load_type  load_weight  \\\n",
       "149995  2011-08-17 12:45:00 UTC  RECYCLING - SINGLE STREAM      13380.0   \n",
       "149996  2011-06-08 10:59:00 UTC  RECYCLING - SINGLE STREAM      14080.0   \n",
       "149997  2012-04-11 12:09:00 UTC  RECYCLING - SINGLE STREAM      14260.0   \n",
       "149998  2011-08-31 02:50:00 UTC  RECYCLING - SINGLE STREAM       4100.0   \n",
       "149999  2011-07-20 11:21:00 UTC  RECYCLING - SINGLE STREAM       6220.0   \n",
       "\n",
       "       dropoff_site  \n",
       "149995    TDS - MRF  \n",
       "149996    TDS - MRF  \n",
       "149997    TDS - MRF  \n",
       "149998    TDS - MRF  \n",
       "149999    TDS - MRF  "
      ]
     },
     "execution_count": 4,
     "metadata": {},
     "output_type": "execute_result"
    }
   ],
   "source": [
    "df.tail()"
   ]
  },
  {
   "attachments": {},
   "cell_type": "markdown",
   "metadata": {},
   "source": [
    "Calling tail to retrieve the last n rows of data"
   ]
  },
  {
   "attachments": {},
   "cell_type": "markdown",
   "metadata": {},
   "source": [
    "## Data analysis"
   ]
  },
  {
   "attachments": {},
   "cell_type": "markdown",
   "metadata": {},
   "source": [
    "1. Sebelum melakukan perhitungan dan analisa statistik, lakukan pembersihan data terlebih dahulu. Pastikan tidak ada missing value, dsb."
   ]
  },
  {
   "cell_type": "code",
   "execution_count": 5,
   "metadata": {},
   "outputs": [
    {
     "name": "stdout",
     "output_type": "stream",
     "text": [
      "<class 'pandas.core.frame.DataFrame'>\n",
      "RangeIndex: 150000 entries, 0 to 149999\n",
      "Data columns (total 4 columns):\n",
      " #   Column        Non-Null Count   Dtype  \n",
      "---  ------        --------------   -----  \n",
      " 0   load_time     150000 non-null  object \n",
      " 1   load_type     150000 non-null  object \n",
      " 2   load_weight   144934 non-null  float64\n",
      " 3   dropoff_site  150000 non-null  object \n",
      "dtypes: float64(1), object(3)\n",
      "memory usage: 4.6+ MB\n"
     ]
    }
   ],
   "source": [
    "df.info()"
   ]
  },
  {
   "attachments": {},
   "cell_type": "markdown",
   "metadata": {},
   "source": [
    "Call def.info() to see the missing value. The results show that there is a missing value as evidenced in no. 2 on the Non-Null Count which is different from the others."
   ]
  },
  {
   "cell_type": "code",
   "execution_count": 6,
   "metadata": {
    "scrolled": false
   },
   "outputs": [
    {
     "data": {
      "text/html": [
       "<div>\n",
       "<style scoped>\n",
       "    .dataframe tbody tr th:only-of-type {\n",
       "        vertical-align: middle;\n",
       "    }\n",
       "\n",
       "    .dataframe tbody tr th {\n",
       "        vertical-align: top;\n",
       "    }\n",
       "\n",
       "    .dataframe thead th {\n",
       "        text-align: right;\n",
       "    }\n",
       "</style>\n",
       "<table border=\"1\" class=\"dataframe\">\n",
       "  <thead>\n",
       "    <tr style=\"text-align: right;\">\n",
       "      <th></th>\n",
       "      <th>load_time</th>\n",
       "      <th>load_type</th>\n",
       "      <th>load_weight</th>\n",
       "      <th>dropoff_site</th>\n",
       "    </tr>\n",
       "  </thead>\n",
       "  <tbody>\n",
       "    <tr>\n",
       "      <th>0</th>\n",
       "      <td>2009-08-07 11:51:00 UTC</td>\n",
       "      <td>RECYCLING - SINGLE STREAM</td>\n",
       "      <td>4400.0</td>\n",
       "      <td>MRF</td>\n",
       "    </tr>\n",
       "    <tr>\n",
       "      <th>1</th>\n",
       "      <td>2008-04-11 12:31:00 UTC</td>\n",
       "      <td>RECYCLING - PAPER</td>\n",
       "      <td>1920.0</td>\n",
       "      <td>MRF</td>\n",
       "    </tr>\n",
       "    <tr>\n",
       "      <th>2</th>\n",
       "      <td>2009-01-16 12:58:00 UTC</td>\n",
       "      <td>RECYCLING - SINGLE STREAM</td>\n",
       "      <td>4140.0</td>\n",
       "      <td>MRF</td>\n",
       "    </tr>\n",
       "    <tr>\n",
       "      <th>3</th>\n",
       "      <td>2009-07-10 11:21:00 UTC</td>\n",
       "      <td>RECYCLING - SINGLE STREAM</td>\n",
       "      <td>4020.0</td>\n",
       "      <td>MRF</td>\n",
       "    </tr>\n",
       "    <tr>\n",
       "      <th>4</th>\n",
       "      <td>2006-02-03 12:36:00 UTC</td>\n",
       "      <td>RECYCLING - COMINGLE</td>\n",
       "      <td>1700.0</td>\n",
       "      <td>MRF</td>\n",
       "    </tr>\n",
       "    <tr>\n",
       "      <th>...</th>\n",
       "      <td>...</td>\n",
       "      <td>...</td>\n",
       "      <td>...</td>\n",
       "      <td>...</td>\n",
       "    </tr>\n",
       "    <tr>\n",
       "      <th>149995</th>\n",
       "      <td>2011-08-17 12:45:00 UTC</td>\n",
       "      <td>RECYCLING - SINGLE STREAM</td>\n",
       "      <td>13380.0</td>\n",
       "      <td>TDS - MRF</td>\n",
       "    </tr>\n",
       "    <tr>\n",
       "      <th>149996</th>\n",
       "      <td>2011-06-08 10:59:00 UTC</td>\n",
       "      <td>RECYCLING - SINGLE STREAM</td>\n",
       "      <td>14080.0</td>\n",
       "      <td>TDS - MRF</td>\n",
       "    </tr>\n",
       "    <tr>\n",
       "      <th>149997</th>\n",
       "      <td>2012-04-11 12:09:00 UTC</td>\n",
       "      <td>RECYCLING - SINGLE STREAM</td>\n",
       "      <td>14260.0</td>\n",
       "      <td>TDS - MRF</td>\n",
       "    </tr>\n",
       "    <tr>\n",
       "      <th>149998</th>\n",
       "      <td>2011-08-31 02:50:00 UTC</td>\n",
       "      <td>RECYCLING - SINGLE STREAM</td>\n",
       "      <td>4100.0</td>\n",
       "      <td>TDS - MRF</td>\n",
       "    </tr>\n",
       "    <tr>\n",
       "      <th>149999</th>\n",
       "      <td>2011-07-20 11:21:00 UTC</td>\n",
       "      <td>RECYCLING - SINGLE STREAM</td>\n",
       "      <td>6220.0</td>\n",
       "      <td>TDS - MRF</td>\n",
       "    </tr>\n",
       "  </tbody>\n",
       "</table>\n",
       "<p>144934 rows × 4 columns</p>\n",
       "</div>"
      ],
      "text/plain": [
       "                      load_time                  load_type  load_weight  \\\n",
       "0       2009-08-07 11:51:00 UTC  RECYCLING - SINGLE STREAM       4400.0   \n",
       "1       2008-04-11 12:31:00 UTC          RECYCLING - PAPER       1920.0   \n",
       "2       2009-01-16 12:58:00 UTC  RECYCLING - SINGLE STREAM       4140.0   \n",
       "3       2009-07-10 11:21:00 UTC  RECYCLING - SINGLE STREAM       4020.0   \n",
       "4       2006-02-03 12:36:00 UTC       RECYCLING - COMINGLE       1700.0   \n",
       "...                         ...                        ...          ...   \n",
       "149995  2011-08-17 12:45:00 UTC  RECYCLING - SINGLE STREAM      13380.0   \n",
       "149996  2011-06-08 10:59:00 UTC  RECYCLING - SINGLE STREAM      14080.0   \n",
       "149997  2012-04-11 12:09:00 UTC  RECYCLING - SINGLE STREAM      14260.0   \n",
       "149998  2011-08-31 02:50:00 UTC  RECYCLING - SINGLE STREAM       4100.0   \n",
       "149999  2011-07-20 11:21:00 UTC  RECYCLING - SINGLE STREAM       6220.0   \n",
       "\n",
       "       dropoff_site  \n",
       "0               MRF  \n",
       "1               MRF  \n",
       "2               MRF  \n",
       "3               MRF  \n",
       "4               MRF  \n",
       "...             ...  \n",
       "149995    TDS - MRF  \n",
       "149996    TDS - MRF  \n",
       "149997    TDS - MRF  \n",
       "149998    TDS - MRF  \n",
       "149999    TDS - MRF  \n",
       "\n",
       "[144934 rows x 4 columns]"
      ]
     },
     "execution_count": 6,
     "metadata": {},
     "output_type": "execute_result"
    }
   ],
   "source": [
    "df = df.dropna()\n",
    "df"
   ]
  },
  {
   "attachments": {},
   "cell_type": "markdown",
   "metadata": {},
   "source": [
    "Create a new variable containing df.dropna() to handle missing values by dropping them"
   ]
  },
  {
   "cell_type": "code",
   "execution_count": 7,
   "metadata": {},
   "outputs": [
    {
     "name": "stdout",
     "output_type": "stream",
     "text": [
      "<class 'pandas.core.frame.DataFrame'>\n",
      "Int64Index: 144934 entries, 0 to 149999\n",
      "Data columns (total 4 columns):\n",
      " #   Column        Non-Null Count   Dtype  \n",
      "---  ------        --------------   -----  \n",
      " 0   load_time     144934 non-null  object \n",
      " 1   load_type     144934 non-null  object \n",
      " 2   load_weight   144934 non-null  float64\n",
      " 3   dropoff_site  144934 non-null  object \n",
      "dtypes: float64(1), object(3)\n",
      "memory usage: 5.5+ MB\n"
     ]
    }
   ],
   "source": [
    "df.info()"
   ]
  },
  {
   "attachments": {},
   "cell_type": "markdown",
   "metadata": {},
   "source": [
    "Calling df.info() to make sure there are no more missing values"
   ]
  },
  {
   "attachments": {},
   "cell_type": "markdown",
   "metadata": {},
   "source": [
    "2. Selanjutnya, lakukan eksplorasi data sederhana guna mengetahui dan mengenali data yang kamu punya. Kamu bisa lakukan hal-hal berikut untuk mengeksplorasi data kamu."
   ]
  },
  {
   "cell_type": "code",
   "execution_count": 8,
   "metadata": {},
   "outputs": [
    {
     "name": "stdout",
     "output_type": "stream",
     "text": [
      "0         2009-08-07 11:51:00 UTC\n",
      "1         2008-04-11 12:31:00 UTC\n",
      "2         2009-01-16 12:58:00 UTC\n",
      "3         2009-07-10 11:21:00 UTC\n",
      "4         2006-02-03 12:36:00 UTC\n",
      "                   ...           \n",
      "149995    2011-08-17 12:45:00 UTC\n",
      "149996    2011-06-08 10:59:00 UTC\n",
      "149997    2012-04-11 12:09:00 UTC\n",
      "149998    2011-08-31 02:50:00 UTC\n",
      "149999    2011-07-20 11:21:00 UTC\n",
      "Name: load_time, Length: 144934, dtype: object\n"
     ]
    }
   ],
   "source": [
    "print(df['load_time'])"
   ]
  },
  {
   "attachments": {},
   "cell_type": "markdown",
   "metadata": {},
   "source": [
    "Calling df['load_time'])to see the vulnerable period in the data, it can be seen that the data started in 2009-08-07 ended in 2011-07-20. Moreover, the Length is 144934 because it has been dropped so it's not 150000 anymore"
   ]
  },
  {
   "cell_type": "code",
   "execution_count": 9,
   "metadata": {},
   "outputs": [
    {
     "data": {
      "text/plain": [
       "array(['RECYCLING - SINGLE STREAM', 'RECYCLING - PAPER',\n",
       "       'RECYCLING - COMINGLE', 'SWEEPING', 'BRUSH', 'TIRES', 'BULK',\n",
       "       'RECYCLED METAL', 'YARD TRIMMING', 'MIXED LITTER',\n",
       "       'GARBAGE COLLECTIONS', 'ORGANICS', 'RECYCLING - PLASTIC BAGS',\n",
       "       'MULCH', 'YARD TRIMMING - X-MAS TREES', 'CONTAMINATED RECYCLING',\n",
       "       'DEAD ANIMAL', 'LITTER'], dtype=object)"
      ]
     },
     "execution_count": 9,
     "metadata": {},
     "output_type": "execute_result"
    }
   ],
   "source": [
    "df['load_type'].unique()"
   ]
  },
  {
   "attachments": {},
   "cell_type": "markdown",
   "metadata": {},
   "source": [
    "Calling .unique() to find out the unique values of load_type column"
   ]
  },
  {
   "cell_type": "code",
   "execution_count": 10,
   "metadata": {},
   "outputs": [
    {
     "data": {
      "text/plain": [
       "array(['MRF', 'ELMONT', 'KRAMER', 'WILCAB', 'ZILKER', 'CLARKSON',\n",
       "       'PARK BEND', 'TDS - MRF'], dtype=object)"
      ]
     },
     "execution_count": 10,
     "metadata": {},
     "output_type": "execute_result"
    }
   ],
   "source": [
    "df['dropoff_site'].unique()"
   ]
  },
  {
   "attachments": {},
   "cell_type": "markdown",
   "metadata": {},
   "source": [
    "Calling .unique() to find out the unique values of dropoff_site column"
   ]
  },
  {
   "attachments": {},
   "cell_type": "markdown",
   "metadata": {},
   "source": [
    "3. Berdasarkan central tendency (mean, median, dan modus) untuk masing-masing site, insight/informasi apa yang bisa kamu sampaikan kepada pemerintah kota?"
   ]
  },
  {
   "attachments": {},
   "cell_type": "markdown",
   "metadata": {},
   "source": [
    "**Mean**"
   ]
  },
  {
   "cell_type": "code",
   "execution_count": 11,
   "metadata": {},
   "outputs": [
    {
     "data": {
      "text/plain": [
       "5305.020334140598"
      ]
     },
     "execution_count": 11,
     "metadata": {},
     "output_type": "execute_result"
    }
   ],
   "source": [
    "df.loc[(df['dropoff_site']=='MRF'), 'load_weight'].mean()"
   ]
  },
  {
   "attachments": {},
   "cell_type": "markdown",
   "metadata": {},
   "source": [
    "Calling loc[] as primarily label based on the dropoff_site column of the MRF variable and calling .mean to calculate the average load_weight on the MRF"
   ]
  },
  {
   "cell_type": "code",
   "execution_count": 12,
   "metadata": {},
   "outputs": [
    {
     "data": {
      "text/plain": [
       "15303.4"
      ]
     },
     "execution_count": 12,
     "metadata": {},
     "output_type": "execute_result"
    }
   ],
   "source": [
    "df.loc[(df['dropoff_site']=='ELMONT'), 'load_weight'].mean()"
   ]
  },
  {
   "attachments": {},
   "cell_type": "markdown",
   "metadata": {},
   "source": [
    "Calling loc[] as primarily label based on the dropoff_site column of the ELMONT variable and calling .mean to calculate the average load_weight on the ELMONT"
   ]
  },
  {
   "cell_type": "code",
   "execution_count": 13,
   "metadata": {},
   "outputs": [
    {
     "data": {
      "text/plain": [
       "11660.0"
      ]
     },
     "execution_count": 13,
     "metadata": {},
     "output_type": "execute_result"
    }
   ],
   "source": [
    "df.loc[(df['dropoff_site']=='KRAMER'), 'load_weight'].mean()"
   ]
  },
  {
   "attachments": {},
   "cell_type": "markdown",
   "metadata": {},
   "source": [
    "Calling loc[] as primarily label based on the dropoff_site column of the KRAMER variable and calling .mean to calculate the average load_weight on the KRAMER"
   ]
  },
  {
   "cell_type": "code",
   "execution_count": 14,
   "metadata": {},
   "outputs": [
    {
     "data": {
      "text/plain": [
       "11022.222222222223"
      ]
     },
     "execution_count": 14,
     "metadata": {},
     "output_type": "execute_result"
    }
   ],
   "source": [
    "df.loc[(df['dropoff_site']=='WILCAB'), 'load_weight'].mean()"
   ]
  },
  {
   "attachments": {},
   "cell_type": "markdown",
   "metadata": {},
   "source": [
    "Calling loc[] as primarily label based on the dropoff_site column of the WILCAB variable and calling .mean to calculate the average load_weight on the WILCAB"
   ]
  },
  {
   "cell_type": "code",
   "execution_count": 15,
   "metadata": {},
   "outputs": [
    {
     "data": {
      "text/plain": [
       "9760.959295929593"
      ]
     },
     "execution_count": 15,
     "metadata": {},
     "output_type": "execute_result"
    }
   ],
   "source": [
    "df.loc[(df['dropoff_site']=='ZILKER'), 'load_weight'].mean()"
   ]
  },
  {
   "attachments": {},
   "cell_type": "markdown",
   "metadata": {},
   "source": [
    "Calling loc[] as primarily label based on the dropoff_site column of the ZILKER variable and calling .mean to calculate the average load_weight on the ZILKER"
   ]
  },
  {
   "cell_type": "code",
   "execution_count": 16,
   "metadata": {},
   "outputs": [
    {
     "data": {
      "text/plain": [
       "18640.0"
      ]
     },
     "execution_count": 16,
     "metadata": {},
     "output_type": "execute_result"
    }
   ],
   "source": [
    "df.loc[(df['dropoff_site']== 'CLARKSON'), 'load_weight'].mean()"
   ]
  },
  {
   "attachments": {},
   "cell_type": "markdown",
   "metadata": {},
   "source": [
    "Calling loc[] as primarily label based on the dropoff_site column of the CLARKSON variable and calling .mean to calculate the average load_weight on the CLARKSON"
   ]
  },
  {
   "cell_type": "code",
   "execution_count": 17,
   "metadata": {},
   "outputs": [
    {
     "data": {
      "text/plain": [
       "7517.642487046632"
      ]
     },
     "execution_count": 17,
     "metadata": {},
     "output_type": "execute_result"
    }
   ],
   "source": [
    "df.loc[(df['dropoff_site']== 'PARK BEND'), 'load_weight'].mean()"
   ]
  },
  {
   "attachments": {},
   "cell_type": "markdown",
   "metadata": {},
   "source": [
    "Calling loc[] as primarily label based on the dropoff_site column of the PARK BEND variable and calling .mean to calculate the average load_weight on the PARK BEND"
   ]
  },
  {
   "cell_type": "code",
   "execution_count": 18,
   "metadata": {},
   "outputs": [
    {
     "data": {
      "text/plain": [
       "10118.207764078641"
      ]
     },
     "execution_count": 18,
     "metadata": {},
     "output_type": "execute_result"
    }
   ],
   "source": [
    "df.loc[(df['dropoff_site']== 'TDS - MRF'), 'load_weight'].mean()"
   ]
  },
  {
   "attachments": {},
   "cell_type": "markdown",
   "metadata": {},
   "source": [
    "Calling loc[] as primarily label based on the dropoff_site column of the TDS - MRF variable and calling .mean to calculate the average load_weight on the TDS - MRF"
   ]
  },
  {
   "attachments": {},
   "cell_type": "markdown",
   "metadata": {},
   "source": [
    "**Median**"
   ]
  },
  {
   "cell_type": "code",
   "execution_count": 19,
   "metadata": {},
   "outputs": [
    {
     "data": {
      "text/plain": [
       "4260.0"
      ]
     },
     "execution_count": 19,
     "metadata": {},
     "output_type": "execute_result"
    }
   ],
   "source": [
    "df.loc[(df['dropoff_site']=='MRF'), 'load_weight'].median()"
   ]
  },
  {
   "attachments": {},
   "cell_type": "markdown",
   "metadata": {},
   "source": [
    "Calling loc[] as primarily label based on the dropoff_site column of the MRF variable and calling .median to see the middle value of load_weight on the MRF"
   ]
  },
  {
   "cell_type": "code",
   "execution_count": 20,
   "metadata": {},
   "outputs": [
    {
     "data": {
      "text/plain": [
       "12560.0"
      ]
     },
     "execution_count": 20,
     "metadata": {},
     "output_type": "execute_result"
    }
   ],
   "source": [
    "df.loc[(df['dropoff_site']=='ELMONT'), 'load_weight'].median()"
   ]
  },
  {
   "attachments": {},
   "cell_type": "markdown",
   "metadata": {},
   "source": [
    "Calling loc[] as primarily label based on the dropoff_site column of the ELMONT variable and calling .median to see the middle value of load_weight on the ELMONT"
   ]
  },
  {
   "cell_type": "code",
   "execution_count": 21,
   "metadata": {},
   "outputs": [
    {
     "data": {
      "text/plain": [
       "11400.0"
      ]
     },
     "execution_count": 21,
     "metadata": {},
     "output_type": "execute_result"
    }
   ],
   "source": [
    "df.loc[(df['dropoff_site']=='KRAMER'), 'load_weight'].median()"
   ]
  },
  {
   "attachments": {},
   "cell_type": "markdown",
   "metadata": {},
   "source": [
    "Calling loc[] as primarily label based on the dropoff_site column of the KRAMER variable and calling .median to see the middle value of load_weight on the KRAMER"
   ]
  },
  {
   "cell_type": "code",
   "execution_count": 22,
   "metadata": {},
   "outputs": [
    {
     "data": {
      "text/plain": [
       "10380.0"
      ]
     },
     "execution_count": 22,
     "metadata": {},
     "output_type": "execute_result"
    }
   ],
   "source": [
    "df.loc[(df['dropoff_site']=='WILCAB'), 'load_weight'].median()"
   ]
  },
  {
   "attachments": {},
   "cell_type": "markdown",
   "metadata": {},
   "source": [
    "Calling loc[] as primarily label based on the dropoff_site column of the WILCAB variable and calling .median to see the middle value of load_weight on the WILCAB"
   ]
  },
  {
   "cell_type": "code",
   "execution_count": 23,
   "metadata": {},
   "outputs": [
    {
     "data": {
      "text/plain": [
       "8750.0"
      ]
     },
     "execution_count": 23,
     "metadata": {},
     "output_type": "execute_result"
    }
   ],
   "source": [
    "df.loc[(df['dropoff_site']=='ZILKER'), 'load_weight'].median()"
   ]
  },
  {
   "attachments": {},
   "cell_type": "markdown",
   "metadata": {},
   "source": [
    "Calling loc[] as primarily label based on the dropoff_site column of the ZILKER variable and calling .median to see the middle value of load_weight on the ZILKER"
   ]
  },
  {
   "cell_type": "code",
   "execution_count": 24,
   "metadata": {},
   "outputs": [
    {
     "data": {
      "text/plain": [
       "18640.0"
      ]
     },
     "execution_count": 24,
     "metadata": {},
     "output_type": "execute_result"
    }
   ],
   "source": [
    "df.loc[(df['dropoff_site']== 'CLARKSON'), 'load_weight'].median()"
   ]
  },
  {
   "attachments": {},
   "cell_type": "markdown",
   "metadata": {},
   "source": [
    "Calling loc[] as primarily label based on the dropoff_site column of the CLARKSON variable and calling .median to see the middle value of load_weight on the CLARKSON"
   ]
  },
  {
   "cell_type": "code",
   "execution_count": 25,
   "metadata": {},
   "outputs": [
    {
     "data": {
      "text/plain": [
       "5500.0"
      ]
     },
     "execution_count": 25,
     "metadata": {},
     "output_type": "execute_result"
    }
   ],
   "source": [
    "df.loc[(df['dropoff_site']== 'PARK BEND'), 'load_weight'].median()"
   ]
  },
  {
   "attachments": {},
   "cell_type": "markdown",
   "metadata": {},
   "source": [
    "Calling loc[] as primarily label based on the dropoff_site column of the PARK BEND variable and calling .median to see the middle value of load_weight on the PARK BEND"
   ]
  },
  {
   "cell_type": "code",
   "execution_count": 26,
   "metadata": {},
   "outputs": [
    {
     "data": {
      "text/plain": [
       "10960.0"
      ]
     },
     "execution_count": 26,
     "metadata": {},
     "output_type": "execute_result"
    }
   ],
   "source": [
    "df.loc[(df['dropoff_site']== 'TDS - MRF'), 'load_weight'].median()"
   ]
  },
  {
   "attachments": {},
   "cell_type": "markdown",
   "metadata": {},
   "source": [
    "Calling loc[] as primarily label based on the dropoff_site column of the TDS - MRF variable and calling .median to see the middle value of load_weight on the TDS - MRF"
   ]
  },
  {
   "attachments": {},
   "cell_type": "markdown",
   "metadata": {},
   "source": [
    "**Mode**"
   ]
  },
  {
   "cell_type": "code",
   "execution_count": 27,
   "metadata": {},
   "outputs": [
    {
     "data": {
      "text/plain": [
       "0    3460.0\n",
       "dtype: float64"
      ]
     },
     "execution_count": 27,
     "metadata": {},
     "output_type": "execute_result"
    }
   ],
   "source": [
    "df.loc[(df['dropoff_site']=='MRF'), 'load_weight'].mode()"
   ]
  },
  {
   "attachments": {},
   "cell_type": "markdown",
   "metadata": {},
   "source": [
    "Calling loc[] as primarily label based on the dropoff_site column of the MRF variable and calling .mode to see the value that appears the most of load_weight on the MRF"
   ]
  },
  {
   "cell_type": "code",
   "execution_count": 28,
   "metadata": {},
   "outputs": [
    {
     "data": {
      "text/plain": [
       "0     5480.0\n",
       "1    11720.0\n",
       "2    12560.0\n",
       "3    14900.0\n",
       "4    31857.0\n",
       "dtype: float64"
      ]
     },
     "execution_count": 28,
     "metadata": {},
     "output_type": "execute_result"
    }
   ],
   "source": [
    "df.loc[(df['dropoff_site']=='ELMONT'), 'load_weight'].mode()"
   ]
  },
  {
   "attachments": {},
   "cell_type": "markdown",
   "metadata": {},
   "source": [
    "Calling loc[] as primarily label based on the dropoff_site column of the ELMONT variable and calling .mode to see the value that appears the most of load_weight on the ELMONT"
   ]
  },
  {
   "cell_type": "code",
   "execution_count": 29,
   "metadata": {},
   "outputs": [
    {
     "data": {
      "text/plain": [
       "0     3980.0\n",
       "1    11400.0\n",
       "2    19600.0\n",
       "dtype: float64"
      ]
     },
     "execution_count": 29,
     "metadata": {},
     "output_type": "execute_result"
    }
   ],
   "source": [
    "df.loc[(df['dropoff_site']=='KRAMER'), 'load_weight'].mode()"
   ]
  },
  {
   "attachments": {},
   "cell_type": "markdown",
   "metadata": {},
   "source": [
    "Calling loc[] as primarily label based on the dropoff_site column of the KRAMER variable and calling .mode to see the value that appears the most of load_weight on the KRAMER"
   ]
  },
  {
   "cell_type": "code",
   "execution_count": 30,
   "metadata": {},
   "outputs": [
    {
     "data": {
      "text/plain": [
       "0     2100.0\n",
       "1     3780.0\n",
       "2     6360.0\n",
       "3     9880.0\n",
       "4    10380.0\n",
       "5    11800.0\n",
       "6    13560.0\n",
       "7    17280.0\n",
       "8    24060.0\n",
       "dtype: float64"
      ]
     },
     "execution_count": 30,
     "metadata": {},
     "output_type": "execute_result"
    }
   ],
   "source": [
    "df.loc[(df['dropoff_site']=='WILCAB'), 'load_weight'].mode()"
   ]
  },
  {
   "attachments": {},
   "cell_type": "markdown",
   "metadata": {},
   "source": [
    "Calling loc[] as primarily label based on the dropoff_site column of the WILCAB variable and calling .mode to see the value that appears the most of load_weight on the WILCAB"
   ]
  },
  {
   "cell_type": "code",
   "execution_count": 31,
   "metadata": {},
   "outputs": [
    {
     "data": {
      "text/plain": [
       "0    15000.0\n",
       "dtype: float64"
      ]
     },
     "execution_count": 31,
     "metadata": {},
     "output_type": "execute_result"
    }
   ],
   "source": [
    "df.loc[(df['dropoff_site']=='ZILKER'), 'load_weight'].mode()"
   ]
  },
  {
   "attachments": {},
   "cell_type": "markdown",
   "metadata": {},
   "source": [
    "Calling loc[] as primarily label based on the dropoff_site column of the ZILKER variable and calling .mode to see the value that appears the most of load_weight on the ZILKER"
   ]
  },
  {
   "cell_type": "code",
   "execution_count": 32,
   "metadata": {},
   "outputs": [
    {
     "data": {
      "text/plain": [
       "0    18640.0\n",
       "dtype: float64"
      ]
     },
     "execution_count": 32,
     "metadata": {},
     "output_type": "execute_result"
    }
   ],
   "source": [
    "df.loc[(df['dropoff_site']== 'CLARKSON'), 'load_weight'].mode()"
   ]
  },
  {
   "attachments": {},
   "cell_type": "markdown",
   "metadata": {},
   "source": [
    "Calling loc[] as primarily label based on the dropoff_site column of the CLARKSON variable and calling .mode to see the value that appears the most of load_weight on the CLARKSON"
   ]
  },
  {
   "cell_type": "code",
   "execution_count": 33,
   "metadata": {},
   "outputs": [
    {
     "data": {
      "text/plain": [
       "0    5500.0\n",
       "dtype: float64"
      ]
     },
     "execution_count": 33,
     "metadata": {},
     "output_type": "execute_result"
    }
   ],
   "source": [
    "df.loc[(df['dropoff_site']== 'PARK BEND'), 'load_weight'].mode()"
   ]
  },
  {
   "attachments": {},
   "cell_type": "markdown",
   "metadata": {},
   "source": [
    "Calling loc[] as primarily label based on the dropoff_site column of the PARK BEND variable and calling .mode to see the value that appears the most of load_weight on the PARK BEND"
   ]
  },
  {
   "cell_type": "code",
   "execution_count": 34,
   "metadata": {},
   "outputs": [
    {
     "data": {
      "text/plain": [
       "0    12300.0\n",
       "dtype: float64"
      ]
     },
     "execution_count": 34,
     "metadata": {},
     "output_type": "execute_result"
    }
   ],
   "source": [
    "df.loc[(df['dropoff_site']== 'TDS - MRF'), 'load_weight'].mode()"
   ]
  },
  {
   "attachments": {},
   "cell_type": "markdown",
   "metadata": {},
   "source": [
    "Calling loc[] as primarily label based on the dropoff_site column of the TDS - MRF variable and calling .mode to see the value that appears the most of load_weight on the TDS - MRF"
   ]
  },
  {
   "attachments": {},
   "cell_type": "markdown",
   "metadata": {},
   "source": [
    "4. Pilih site yang paling menarik perhatian kamu, dan berikan alasannya"
   ]
  },
  {
   "attachments": {},
   "cell_type": "markdown",
   "metadata": {},
   "source": [
    "The selected site is MRF because the mean and media values are the smallest among other sites"
   ]
  },
  {
   "attachments": {},
   "cell_type": "markdown",
   "metadata": {},
   "source": [
    "5. Gunakan site yang kamu pilih untuk dicek apakah data load_weight ada outlier atau tidak. Gunakan teknik yang tepat sesuai dengan distribusi dari datanya!. Jika iya, berapa persen jumlah outliernya? dan bandingkan central tendency data yang telah dikeluarkan outliernya dengan yang belum (hasil dari perhitungan nomor 3)"
   ]
  },
  {
   "cell_type": "code",
   "execution_count": 35,
   "metadata": {},
   "outputs": [],
   "source": [
    "data =df.loc[(df['dropoff_site']=='MRF'), 'load_weight']"
   ]
  },
  {
   "attachments": {},
   "cell_type": "markdown",
   "metadata": {},
   "source": [
    "Create a new variable named data that contains the selected site"
   ]
  },
  {
   "cell_type": "code",
   "execution_count": 36,
   "metadata": {},
   "outputs": [
    {
     "data": {
      "text/plain": [
       "1.0010029864561523"
      ]
     },
     "execution_count": 36,
     "metadata": {},
     "output_type": "execute_result"
    }
   ],
   "source": [
    "data.skew()"
   ]
  },
  {
   "attachments": {},
   "cell_type": "markdown",
   "metadata": {},
   "source": [
    "Calls .skew() to find out whether the selected data sheet is normally distributed or skewed. Based on the results of the data above 0.5 which means the data is skewed right"
   ]
  },
  {
   "cell_type": "code",
   "execution_count": 37,
   "metadata": {},
   "outputs": [
    {
     "data": {
      "text/plain": [
       "<matplotlib.legend.Legend at 0x194da385df0>"
      ]
     },
     "execution_count": 37,
     "metadata": {},
     "output_type": "execute_result"
    },
    {
     "data": {
      "image/png": "[encoded data removed]",
      "text/plain": [
       "<Figure size 432x288 with 1 Axes>"
      ]
     },
     "metadata": {
      "needs_background": "light"
     },
     "output_type": "display_data"
    }
   ],
   "source": [
    "sns.kdeplot(data)\n",
    "plt.axvline(data.mean(), color='r', label='mean')\n",
    "plt.axvline(data.median(), color='g', label='median')\n",
    "plt.legend()"
   ]
  },
  {
   "attachments": {},
   "cell_type": "markdown",
   "metadata": {},
   "source": [
    "Calling sns for making statistical graphics from data. If it is normally distributed, then the mean and median are on one line, based on the results of the drawing, the mean and median lines are not on the same line"
   ]
  },
  {
   "cell_type": "code",
   "execution_count": 38,
   "metadata": {},
   "outputs": [
    {
     "data": {
      "text/plain": [
       "0.25    2680.0\n",
       "0.50    4260.0\n",
       "0.75    6940.0\n",
       "Name: load_weight, dtype: float64"
      ]
     },
     "execution_count": 38,
     "metadata": {},
     "output_type": "execute_result"
    }
   ],
   "source": [
    "data.quantile([.25, .5, .75])"
   ]
  },
  {
   "attachments": {},
   "cell_type": "markdown",
   "metadata": {},
   "source": [
    "Call data.quantile() because EVA data is not normally distributed, then use IQR"
   ]
  },
  {
   "cell_type": "code",
   "execution_count": 39,
   "metadata": {},
   "outputs": [],
   "source": [
    "Q3 = data.quantile(.75)\n",
    "Q1 = data.quantile(.25)\n",
    "\n",
    "IQR = Q3 - Q1\n",
    "\n",
    "upper = Q3 + (3*IQR)\n",
    "lower = Q1 - (3*IQR)"
   ]
  },
  {
   "attachments": {},
   "cell_type": "markdown",
   "metadata": {},
   "source": [
    "Define the first and third quantiles and then subtract between Q3 and Q1 on the IQR variable. Then define the upper and lower."
   ]
  },
  {
   "cell_type": "code",
   "execution_count": 40,
   "metadata": {},
   "outputs": [
    {
     "data": {
      "text/plain": [
       "19720.0"
      ]
     },
     "execution_count": 40,
     "metadata": {},
     "output_type": "execute_result"
    }
   ],
   "source": [
    "upper"
   ]
  },
  {
   "attachments": {},
   "cell_type": "markdown",
   "metadata": {},
   "source": [
    "Calling upper to see the result"
   ]
  },
  {
   "cell_type": "code",
   "execution_count": 41,
   "metadata": {},
   "outputs": [
    {
     "data": {
      "text/plain": [
       "-10100.0"
      ]
     },
     "execution_count": 41,
     "metadata": {},
     "output_type": "execute_result"
    }
   ],
   "source": [
    "lower"
   ]
  },
  {
   "attachments": {},
   "cell_type": "markdown",
   "metadata": {},
   "source": [
    "Calling lower to see the result"
   ]
  },
  {
   "cell_type": "code",
   "execution_count": 42,
   "metadata": {},
   "outputs": [
    {
     "data": {
      "text/plain": [
       "0"
      ]
     },
     "execution_count": 42,
     "metadata": {},
     "output_type": "execute_result"
    }
   ],
   "source": [
    "data.isnull().sum()"
   ]
  },
  {
   "attachments": {},
   "cell_type": "markdown",
   "metadata": {},
   "source": [
    "Call isnull(). sum() to return the number of missing values in the data set"
   ]
  },
  {
   "cell_type": "code",
   "execution_count": 43,
   "metadata": {},
   "outputs": [],
   "source": [
    "df_clean = data[(data <= upper)&\n",
    "              (data > 0)]"
   ]
  },
  {
   "attachments": {},
   "cell_type": "markdown",
   "metadata": {},
   "source": [
    "Create a new variable named df clean to remove outliers"
   ]
  },
  {
   "cell_type": "code",
   "execution_count": 44,
   "metadata": {},
   "outputs": [
    {
     "data": {
      "text/plain": [
       "20.0"
      ]
     },
     "execution_count": 44,
     "metadata": {},
     "output_type": "execute_result"
    }
   ],
   "source": [
    "df_clean.min()"
   ]
  },
  {
   "attachments": {},
   "cell_type": "markdown",
   "metadata": {},
   "source": [
    "Calling min() to return the item with the lowest value"
   ]
  },
  {
   "cell_type": "code",
   "execution_count": 45,
   "metadata": {},
   "outputs": [
    {
     "data": {
      "text/plain": [
       "38.287082396125136"
      ]
     },
     "execution_count": 45,
     "metadata": {},
     "output_type": "execute_result"
    }
   ],
   "source": [
    "(df.shape[0] - df_clean.shape[0]) / df.shape[0] * 100"
   ]
  },
  {
   "attachments": {},
   "cell_type": "markdown",
   "metadata": {},
   "source": [
    "Call (df.shape[0] - df_clean.shape[0]) / df.shape[0] * 100 to see the percentage of outliers. The percentage is 38.28%"
   ]
  },
  {
   "cell_type": "code",
   "execution_count": 46,
   "metadata": {},
   "outputs": [
    {
     "data": {
      "text/plain": [
       "<AxesSubplot:ylabel='load_weight'>"
      ]
     },
     "execution_count": 46,
     "metadata": {},
     "output_type": "execute_result"
    },
    {
     "data": {
      "image/png": "[encoded data removed]",
      "text/plain": [
       "<Figure size 432x288 with 1 Axes>"
      ]
     },
     "metadata": {
      "needs_background": "light"
     },
     "output_type": "display_data"
    }
   ],
   "source": [
    "sns.boxplot(y = data)"
   ]
  },
  {
   "attachments": {},
   "cell_type": "markdown",
   "metadata": {},
   "source": [
    "Calling sns.boxplot(y = data) to see an overview of the data before removing the outliers. Based on the figure, it can be seen that data has been identified as an outlier as the outlier value is far from the center of the distribution compared to other values that it skews the distribution by affecting the mean."
   ]
  },
  {
   "cell_type": "code",
   "execution_count": 47,
   "metadata": {},
   "outputs": [
    {
     "data": {
      "text/plain": [
       "<AxesSubplot:ylabel='load_weight'>"
      ]
     },
     "execution_count": 47,
     "metadata": {},
     "output_type": "execute_result"
    },
    {
     "data": {
      "image/png": "[encoded data removed]",
      "text/plain": [
       "<Figure size 432x288 with 1 Axes>"
      ]
     },
     "metadata": {
      "needs_background": "light"
     },
     "output_type": "display_data"
    }
   ],
   "source": [
    "sns.boxplot(y = df_clean)"
   ]
  },
  {
   "attachments": {},
   "cell_type": "markdown",
   "metadata": {},
   "source": [
    "Calling sns.boxplot(y = df_clean) to see a picture of the data after removing the outliers. Based on the figure, it can be seen that data is more distributed but not symmetrical."
   ]
  },
  {
   "cell_type": "code",
   "execution_count": 48,
   "metadata": {},
   "outputs": [
    {
     "data": {
      "text/plain": [
       "count    89603.000000\n",
       "mean      5305.020334\n",
       "std       3675.176552\n",
       "min          0.000000\n",
       "25%       2680.000000\n",
       "50%       4260.000000\n",
       "75%       6940.000000\n",
       "max      27320.000000\n",
       "Name: load_weight, dtype: float64"
      ]
     },
     "execution_count": 48,
     "metadata": {},
     "output_type": "execute_result"
    }
   ],
   "source": [
    "data.describe()"
   ]
  },
  {
   "attachments": {},
   "cell_type": "markdown",
   "metadata": {},
   "source": [
    "Calling data.describe() to see how it compares to the cleared data"
   ]
  },
  {
   "cell_type": "code",
   "execution_count": 49,
   "metadata": {},
   "outputs": [
    {
     "data": {
      "text/plain": [
       "count    89443.000000\n",
       "mean      5311.035598\n",
       "std       3665.216643\n",
       "min         20.000000\n",
       "25%       2700.000000\n",
       "50%       4260.000000\n",
       "75%       6940.000000\n",
       "max      19480.000000\n",
       "Name: load_weight, dtype: float64"
      ]
     },
     "execution_count": 49,
     "metadata": {},
     "output_type": "execute_result"
    }
   ],
   "source": [
    "df_clean.describe()"
   ]
  },
  {
   "attachments": {},
   "cell_type": "markdown",
   "metadata": {},
   "source": [
    "Calling df_clean.describe() to see how it compares to the data before cleaning"
   ]
  },
  {
   "attachments": {},
   "cell_type": "markdown",
   "metadata": {},
   "source": [
    "Data before cleaning has a larger number of counts than data that has been cleaned. However, the mean number of data before being cleaned is smaller than the data that has been cleaned"
   ]
  },
  {
   "attachments": {},
   "cell_type": "markdown",
   "metadata": {},
   "source": [
    "6. Gunakan site yang telah kamu pilih untuk dihitung range, variance, dan standar deviasi untuk data load_weight. Berikan insight dari hasil perhitunganmu kepada pemerintah kota (Pastikan data yang digunakan adalah data yang sudah dibersihkan dari outlier)."
   ]
  },
  {
   "cell_type": "code",
   "execution_count": 50,
   "metadata": {},
   "outputs": [
    {
     "name": "stdout",
     "output_type": "stream",
     "text": [
      "19460.0\n"
     ]
    }
   ],
   "source": [
    "print(df_clean.max() - df_clean.min())"
   ]
  },
  {
   "attachments": {},
   "cell_type": "markdown",
   "metadata": {},
   "source": [
    "Calls (df_clean.max() - df_clean.min()) to return a range of values for the cleaned data"
   ]
  },
  {
   "cell_type": "code",
   "execution_count": 51,
   "metadata": {},
   "outputs": [
    {
     "name": "stdout",
     "output_type": "stream",
     "text": [
      "13433813.043767547\n"
     ]
    }
   ],
   "source": [
    "print(df_clean.var())"
   ]
  },
  {
   "attachments": {},
   "cell_type": "markdown",
   "metadata": {},
   "source": [
    "Calls .var() to return a variance for the cleaned data"
   ]
  },
  {
   "cell_type": "code",
   "execution_count": 52,
   "metadata": {},
   "outputs": [
    {
     "name": "stdout",
     "output_type": "stream",
     "text": [
      "3665.216643497018\n"
     ]
    }
   ],
   "source": [
    "print(df_clean.std())"
   ]
  },
  {
   "attachments": {},
   "cell_type": "markdown",
   "metadata": {},
   "source": [
    "Calls .std() to return a standard deviation for the cleaned data"
   ]
  },
  {
   "attachments": {},
   "cell_type": "markdown",
   "metadata": {},
   "source": [
    "7. Pemerintah kota berencana menambah site baru. Berikan analisa dan saran terkait berapa kapasitas penampungan di site baru berdasarkan perhitungan confidence interval. Data apa yang kamu gunakan, apakah hanya dari satu site saja atau dari keseluruhan site?"
   ]
  },
  {
   "cell_type": "code",
   "execution_count": 53,
   "metadata": {},
   "outputs": [
    {
     "data": {
      "text/plain": [
       "(-1898.1933445149707, 12508.234012796165)"
      ]
     },
     "execution_count": 53,
     "metadata": {},
     "output_type": "execute_result"
    }
   ],
   "source": [
    "ci = stats.norm.interval(0.95, data.mean(),data.std())\n",
    "ci"
   ]
  },
  {
   "attachments": {},
   "cell_type": "markdown",
   "metadata": {},
   "source": [
    "Create a new variable confidence interval named ci contains the previously selected data site (MRF)"
   ]
  },
  {
   "attachments": {},
   "cell_type": "markdown",
   "metadata": {},
   "source": [
    "If the government wants to add a site, the site can only receive load weights between -1898.19 and 12508.23"
   ]
  },
  {
   "attachments": {},
   "cell_type": "markdown",
   "metadata": {},
   "source": [
    "8. Buatlah analisa uji hipotesis dari data tersebut dari data yang tersedia (kasusnya dibebaskan). Definisikan H0 dan H1 nya serta lakukan perhitungan menggunakan t-test yang sesuai dengan hipotesis kamu. Tulis kesimpulan dari hasil perhitunganmu kepada pemerintah kota (Ingat! pemerintah kota tidak mengerti p-value, hipotesis diterima/tidak diterima)."
   ]
  },
  {
   "attachments": {},
   "cell_type": "markdown",
   "metadata": {},
   "source": [
    "The hypothesis on this case\n",
    "- H0 : **average `df_clean` <= data**\n",
    "- H1 : **average `df_clean` > data**\n"
   ]
  },
  {
   "attachments": {},
   "cell_type": "markdown",
   "metadata": {},
   "source": [
    "Create a hypothesis to be tested"
   ]
  },
  {
   "cell_type": "code",
   "execution_count": 54,
   "metadata": {},
   "outputs": [
    {
     "name": "stdout",
     "output_type": "stream",
     "text": [
      "0.49082674316365155\n",
      "0.6235501976519664\n"
     ]
    }
   ],
   "source": [
    "stat, p_value = ttest_1samp(df_clean, data.mean())\n",
    "print(stat)\n",
    "print(p_value)"
   ]
  },
  {
   "attachments": {},
   "cell_type": "markdown",
   "metadata": {},
   "source": [
    "Calls stat, p_value = ttest_1samp(df_clean, data.mean()) to find the t statistic along with the p-value"
   ]
  },
  {
   "cell_type": "code",
   "execution_count": 55,
   "metadata": {},
   "outputs": [
    {
     "name": "stderr",
     "output_type": "stream",
     "text": [
      "C:\\Users\\Amabel\\anaconda3\\lib\\site-packages\\seaborn\\distributions.py:2551: FutureWarning: `distplot` is a deprecated function and will be removed in a future version. Please adapt your code to use either `displot` (a figure-level function with similar flexibility) or `histplot` (an axes-level function for histograms).\n",
      "  warnings.warn(msg, FutureWarning)\n"
     ]
    },
    {
     "data": {
      "text/plain": [
       "<matplotlib.legend.Legend at 0x194db17b040>"
      ]
     },
     "execution_count": 55,
     "metadata": {},
     "output_type": "execute_result"
    },
    {
     "data": {
      "image/png": "[encoded data removed]",
      "text/plain": [
       "<Figure size 1152x360 with 1 Axes>"
      ]
     },
     "metadata": {
      "needs_background": "light"
     },
     "output_type": "display_data"
    }
   ],
   "source": [
    "outlier_removed_pop = np.random.normal(df_clean.mean(), df_clean.std(), 10000)\n",
    "\n",
    "ci = stats.norm.interval(0.95, df_clean.mean(), df_clean.std())\n",
    "\n",
    "plt.figure(figsize=(16,5))\n",
    "sns.distplot(outlier_removed_pop, label='Amount with Outlier Removed (Population)', color='blue')\n",
    "plt.axvline(df_clean.mean(), color='red', linewidth=2, label='Amount with Outlier Removed (Mean)')\n",
    "\n",
    "plt.axvline(ci[1], color='green', linestyle='dashed', linewidth=2, label='confidence threshold of 95%')\n",
    "plt.axvline(ci[0], color='green', linestyle='dashed', linewidth=2, label='confidence threshold of 95%')\n",
    "\n",
    "plt.axvline(outlier_removed_pop.mean() + stat*outlier_removed_pop.std(), color='black', linestyle='dashed', linewidth=2, label = 'Alternative Hypothesis')\n",
    "plt.axvline(outlier_removed_pop.mean() - stat*outlier_removed_pop.std(), color='black', linestyle='dashed', linewidth=2)\n",
    "plt.legend()"
   ]
  },
  {
   "attachments": {},
   "cell_type": "markdown",
   "metadata": {},
   "source": [
    "Eliminate outliers from the data and test hypotheses and find out if there are significant differences"
   ]
  },
  {
   "attachments": {},
   "cell_type": "markdown",
   "metadata": {},
   "source": [
    "Since our p-value is above than 0.05, it can be concluded that it is not successful to reject the null hypothesis"
   ]
  },
  {
   "attachments": {},
   "cell_type": "markdown",
   "metadata": {},
   "source": [
    "There is a difference in the data (data before cleaning from outliers) with df_clean (data after cleaning from outliers)"
   ]
  },
  {
   "attachments": {},
   "cell_type": "markdown",
   "metadata": {},
   "source": [
    "9. Tarik benang merah dan kesimpulan dari perhitungan dan analisa yang kamu telah lakukan di langkah-langkah sebelumnya. Ceritakan kesimpulanmu kepada pemerintah kota dan hindari bahasa teknis yang tidak dimengerti oleh orang yang bukan data scientist!"
   ]
  },
  {
   "attachments": {},
   "cell_type": "markdown",
   "metadata": {},
   "source": [
    "This notebook aims to provide ready-to-process data that will be submitted to the government. The data processed is the smallest average of waste disposal and management in Austin Smart City, which is at the MRF site. It is suspected that there are outliers or extreme values in the data, the data science team is responsible for cleaning the data from these outliers. <br>\n",
    "It can be concluded that the initial data on the load weight dropoff site named MRF has outliers. This may be due to an input error, or sampling error and the wrong subject in the initial data collection carried out by the division that collects the data, it is better to clean the data first by the data science team at Austin Smart City before statistical analysis is carried out. After doing data cleaning, it turns out that the data before and after cleaning have different values. So it is better to analyze the data based on the data that has been cleaned because if government use the initial data, the data has a value that is very far from the general value. <br>\n",
    "The cleaned data can be submitted to other divisions such as the data analyst division for further analysis or business analytics where the data load weight on the MRF site may provide good fortune for businesses or the country's economy."
   ]
  }
 ],
 "metadata": {
  "kernelspec": {
   "display_name": "Python 3",
   "language": "python",
   "name": "python3"
  },
  "language_info": {
   "codemirror_mode": {
    "name": "ipython",
    "version": 3
   },
   "file_extension": ".py",
   "mimetype": "text/x-python",
   "name": "python",
   "nbconvert_exporter": "python",
   "pygments_lexer": "ipython3",
   "version": "3.8.5"
  }
 },
 "nbformat": 4,
 "nbformat_minor": 4
}
